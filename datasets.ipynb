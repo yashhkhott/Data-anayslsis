{
 "cells": [
  {
   "cell_type": "code",
   "execution_count": 13,
   "id": "96a16ad8-8a9b-47d2-9167-c4072f9688e0",
   "metadata": {
    "editable": true,
    "slideshow": {
     "slide_type": ""
    },
    "tags": []
   },
   "outputs": [
    {
     "name": "stdout",
     "output_type": "stream",
     "text": [
      "         s1       sex       bmi  target\n",
      "0 -0.044223  0.050680  0.061696   151.0\n",
      "1 -0.008449 -0.044642 -0.051474    75.0\n",
      "2 -0.045599  0.050680  0.044451   141.0\n",
      "3  0.012191 -0.044642 -0.011595   206.0\n",
      "4  0.003935 -0.044642 -0.036385   135.0\n"
     ]
    }
   ],
   "source": [
    "from sklearn import datasets\n",
    "\n",
    "import pandas as pd\n",
    "\n",
    "# Load the diabetes dataset and create a dataframe\n",
    "\n",
    "diabetes = datasets.load_diabetes()\n",
    "\n",
    "df = pd.DataFrame(diabetes.data, columns=diabetes.feature_names)\n",
    "\n",
    "# Add the target variable to the dataframe\n",
    "\n",
    "df['target'] = diabetes.target\n",
    "\n",
    "# Print the first 5 rows of some variables\n",
    "\n",
    "print(df[['s1', 'sex', 'bmi', 'target']].head())"
   ]
  },
  {
   "cell_type": "code",
   "execution_count": 5,
   "id": "8faaef6f-4c81-47e6-aa77-de2f2503792c",
   "metadata": {},
   "outputs": [
    {
     "name": "stdout",
     "output_type": "stream",
     "text": [
      "              s1       age       bmi    target\n",
      "s1      1.000000  0.260061  0.249777  0.212022\n",
      "age     0.260061  1.000000  0.185085  0.187889\n",
      "bmi     0.249777  0.185085  1.000000  0.586450\n",
      "target  0.212022  0.187889  0.586450  1.000000\n"
     ]
    },
    {
     "data": {
      "text/plain": [
       "'As seen above, we can clearly make a conclusion that the higher the total\\nserum cholesterol (s1), the higher the chance of someone contracting diabetes.\\nIn this way, total serum cholesterol is positively correlated with the chance of\\ncontracting diabetes.'"
      ]
     },
     "execution_count": 5,
     "metadata": {},
     "output_type": "execute_result"
    }
   ],
   "source": [
    "corr = df[['s1', 'age', 'bmi', 'target']].corr()\n",
    "\n",
    "print(corr)\n",
    "\n",
    "'''As seen above, we can clearly make a conclusion that the higher the total\n",
    "serum cholesterol (s1), the higher the chance of someone contracting diabetes.\n",
    "In this way, total serum cholesterol is positively correlated with the chance of\n",
    "contracting diabetes.'''\n"
   ]
  },
  {
   "cell_type": "code",
   "execution_count": null,
   "id": "1d420ceb-89c1-4817-b2f0-fb2ce803b95f",
   "metadata": {},
   "outputs": [],
   "source": []
  }
 ],
 "metadata": {
  "kernelspec": {
   "display_name": "Python 3 (ipykernel)",
   "language": "python",
   "name": "python3"
  },
  "language_info": {
   "codemirror_mode": {
    "name": "ipython",
    "version": 3
   },
   "file_extension": ".py",
   "mimetype": "text/x-python",
   "name": "python",
   "nbconvert_exporter": "python",
   "pygments_lexer": "ipython3",
   "version": "3.12.4"
  }
 },
 "nbformat": 4,
 "nbformat_minor": 5
}
